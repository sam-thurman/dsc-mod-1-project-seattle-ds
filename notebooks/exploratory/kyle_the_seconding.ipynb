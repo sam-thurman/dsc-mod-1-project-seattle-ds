{
 "cells": [
  {
   "cell_type": "code",
   "execution_count": 1,
   "metadata": {
    "scrolled": false
   },
   "outputs": [],
   "source": [
    "%load_ext autoreload\n",
    "%autoreload 2"
   ]
  },
  {
   "cell_type": "code",
   "execution_count": 2,
   "metadata": {},
   "outputs": [],
   "source": [
    "import os\n",
    "import sys\n",
    "module_path = os.path.abspath(os.path.join(os.pardir, os.pardir))\n",
    "if module_path not in sys.path:\n",
    "    sys.path.append(module_path)\n",
    "    \n",
    "import psycopg2\n",
    "import pandas as pd\n",
    "\n",
    "import numpy as np"
   ]
  },
  {
   "cell_type": "code",
   "execution_count": 3,
   "metadata": {
    "scrolled": false
   },
   "outputs": [
    {
     "data": {
      "text/html": [
       "<div>\n",
       "<style scoped>\n",
       "    .dataframe tbody tr th:only-of-type {\n",
       "        vertical-align: middle;\n",
       "    }\n",
       "\n",
       "    .dataframe tbody tr th {\n",
       "        vertical-align: top;\n",
       "    }\n",
       "\n",
       "    .dataframe thead th {\n",
       "        text-align: right;\n",
       "    }\n",
       "</style>\n",
       "<table border=\"1\" class=\"dataframe\">\n",
       "  <thead>\n",
       "    <tr style=\"text-align: right;\">\n",
       "      <th></th>\n",
       "      <th>count</th>\n",
       "    </tr>\n",
       "  </thead>\n",
       "  <tbody>\n",
       "    <tr>\n",
       "      <th>0</th>\n",
       "      <td>359075</td>\n",
       "    </tr>\n",
       "  </tbody>\n",
       "</table>\n",
       "</div>"
      ],
      "text/plain": [
       "    count\n",
       "0  359075"
      ]
     },
     "execution_count": 3,
     "metadata": {},
     "output_type": "execute_result"
    }
   ],
   "source": [
    "DBNAME = \"opportunity_youth\"\n",
    "\n",
    "conn = psycopg2.connect(dbname=DBNAME)\n",
    "cur = conn.cursor()\n",
    "\n",
    "df = pd.read_sql(\"SELECT COUNT(*) FROM pums_2017;\", conn)\n",
    "df"
   ]
  },
  {
   "cell_type": "code",
   "execution_count": 4,
   "metadata": {
    "scrolled": true
   },
   "outputs": [],
   "source": [
    "### pull in ay_df schema data frames from csv files, remove additional index column\n",
    "ay_df = pd.read_csv('ay_df.csv')\n",
    "ay_df = ay_df.drop(['Unnamed: 0'], axis=1)\n",
    "\n",
    "ay_df_16_18 = pd.read_csv('ay_df_16_18.csv')\n",
    "ay_df_16_18 = ay_df_16_18.drop(['Unnamed: 0'], axis=1)\n",
    "\n",
    "ay_df_19_21 = pd.read_csv('ay_df_19_21.csv')\n",
    "ay_df_19_21 = ay_df_19_21.drop(['Unnamed: 0'], axis=1)\n",
    "\n",
    "ay_df_22_24 = pd.read_csv('ay_df_22_24.csv')\n",
    "ay_df_22_24 = ay_df_22_24.drop(['Unnamed: 0'], axis=1)"
   ]
  },
  {
   "cell_type": "code",
   "execution_count": 5,
   "metadata": {},
   "outputs": [],
   "source": [
    "#pull in oy_schema data frames from csv files, remove additional index column\n",
    "oy_df = pd.read_csv('oy_df.csv')\n",
    "oy_df = oy_df.drop(['Unnamed: 0'], axis=1)\n",
    "\n",
    "oy_df_16_18 = pd.read_csv('oy_df_16_18.csv')\n",
    "oy_df_16_18 = oy_df_16_18.drop(['Unnamed: 0'], axis=1)\n",
    "\n",
    "oy_df_19_21 = pd.read_csv('oy_df_19_21.csv')\n",
    "oy_df_19_21 = oy_df_19_21.drop(['Unnamed: 0'], axis=1)\n",
    "\n",
    "oy_df_22_24 = pd.read_csv('oy_df_22_24.csv')\n",
    "oy_df_22_24 = oy_df_22_24.drop(['Unnamed: 0'], axis=1)"
   ]
  },
  {
   "cell_type": "code",
   "execution_count": 6,
   "metadata": {},
   "outputs": [],
   "source": [
    "#pull in ry_schema data frames from csv files, remove additional index column\n",
    "ry_df = pd.read_csv('ry_df.csv')\n",
    "ry_df = ry_df.drop(['Unnamed: 0'], axis=1)\n",
    "\n",
    "ry_df_16_18 = pd.read_csv('ry_df_16_18.csv')\n",
    "ry_df_16_18 = ry_df_16_18.drop(['Unnamed: 0'], axis=1)\n",
    "\n",
    "ry_df_19_21 = pd.read_csv('ry_df_19_21.csv')\n",
    "ry_df_19_21 = ry_df_19_21.drop(['Unnamed: 0'], axis=1)\n",
    "\n",
    "ry_df_22_24 = pd.read_csv('ry_df_22_24.csv')\n",
    "ry_df_22_24 = ry_df_22_24.drop(['Unnamed: 0'], axis=1)"
   ]
  },
  {
   "cell_type": "code",
   "execution_count": 7,
   "metadata": {
    "scrolled": true
   },
   "outputs": [],
   "source": [
    "def sum_plz(df):\n",
    "    if type(df) == pd.core.frame.DataFrame:\n",
    "        return sum(df['pwgtp'])\n",
    "    else:\n",
    "        return df"
   ]
  },
  {
   "cell_type": "code",
   "execution_count": 8,
   "metadata": {
    "scrolled": false
   },
   "outputs": [
    {
     "data": {
      "text/plain": [
       "85883.0"
      ]
     },
     "execution_count": 8,
     "metadata": {},
     "output_type": "execute_result"
    }
   ],
   "source": [
    "sum_plz(ay_df)"
   ]
  },
  {
   "cell_type": "code",
   "execution_count": 9,
   "metadata": {},
   "outputs": [],
   "source": [
    "def ratio_plz(df1, df2):\n",
    "    return round(\n",
    "                (sum_plz(df1) / sum_plz(df2)) * 100\n",
    "                )"
   ]
  },
  {
   "cell_type": "code",
   "execution_count": 10,
   "metadata": {
    "scrolled": false
   },
   "outputs": [
    {
     "data": {
      "text/plain": [
       "13"
      ]
     },
     "execution_count": 10,
     "metadata": {},
     "output_type": "execute_result"
    }
   ],
   "source": [
    "ratio_plz(oy_df, ay_df)"
   ]
  },
  {
   "cell_type": "code",
   "execution_count": 11,
   "metadata": {
    "scrolled": true
   },
   "outputs": [
    {
     "data": {
      "text/plain": [
       "True"
      ]
     },
     "execution_count": 11,
     "metadata": {},
     "output_type": "execute_result"
    }
   ],
   "source": [
    "type(ay_df) == pd.core.frame.DataFrame"
   ]
  },
  {
   "cell_type": "code",
   "execution_count": 12,
   "metadata": {},
   "outputs": [],
   "source": [
    "def not_oy(dfa, dfo, dfr):\n",
    "    return int(sum_plz(dfa) - sum_plz(dfo) - sum_plz(dfr))"
   ]
  },
  {
   "cell_type": "code",
   "execution_count": 13,
   "metadata": {
    "scrolled": true
   },
   "outputs": [
    {
     "data": {
      "text/plain": [
       "92"
      ]
     },
     "execution_count": 13,
     "metadata": {},
     "output_type": "execute_result"
    }
   ],
   "source": [
    "ratio_plz(not_oy(ay_df_16_18, oy_df_16_18, ry_df_16_18), ay_df_16_18)"
   ]
  },
  {
   "cell_type": "code",
   "execution_count": 15,
   "metadata": {},
   "outputs": [],
   "source": [
    "oy_by_puma = pd.DataFrame()"
   ]
  },
  {
   "cell_type": "code",
   "execution_count": 16,
   "metadata": {},
   "outputs": [],
   "source": [
    "oy_by_puma['Puma'] = [11610, 11611, 11612, 11613, 11614, 11615]"
   ]
  },
  {
   "cell_type": "code",
   "execution_count": 17,
   "metadata": {},
   "outputs": [],
   "source": [
    "oy_by_puma['OY Count'] = [\n",
    "    sum_plz(oy_df[oy_df['puma'] == 11610]),\n",
    "    sum_plz(oy_df[oy_df['puma'] == 11611]),\n",
    "    sum_plz(oy_df[oy_df['puma'] == 11612]),\n",
    "    sum_plz(oy_df[oy_df['puma'] == 11613]),\n",
    "    sum_plz(oy_df[oy_df['puma'] == 11614]),\n",
    "    sum_plz(oy_df[oy_df['puma'] == 11615]),\n",
    "]"
   ]
  },
  {
   "cell_type": "code",
   "execution_count": 30,
   "metadata": {
    "scrolled": false
   },
   "outputs": [
    {
     "data": {
      "text/html": [
       "<div>\n",
       "<style scoped>\n",
       "    .dataframe tbody tr th:only-of-type {\n",
       "        vertical-align: middle;\n",
       "    }\n",
       "\n",
       "    .dataframe tbody tr th {\n",
       "        vertical-align: top;\n",
       "    }\n",
       "\n",
       "    .dataframe thead th {\n",
       "        text-align: right;\n",
       "    }\n",
       "</style>\n",
       "<table border=\"1\" class=\"dataframe\">\n",
       "  <thead>\n",
       "    <tr style=\"text-align: right;\">\n",
       "      <th></th>\n",
       "      <th>Puma</th>\n",
       "      <th>OY Count</th>\n",
       "    </tr>\n",
       "  </thead>\n",
       "  <tbody>\n",
       "    <tr>\n",
       "      <th>0</th>\n",
       "      <td>11610</td>\n",
       "      <td>1870.0</td>\n",
       "    </tr>\n",
       "    <tr>\n",
       "      <th>1</th>\n",
       "      <td>11611</td>\n",
       "      <td>2110.0</td>\n",
       "    </tr>\n",
       "    <tr>\n",
       "      <th>2</th>\n",
       "      <td>11612</td>\n",
       "      <td>2125.0</td>\n",
       "    </tr>\n",
       "    <tr>\n",
       "      <th>3</th>\n",
       "      <td>11613</td>\n",
       "      <td>2133.0</td>\n",
       "    </tr>\n",
       "    <tr>\n",
       "      <th>4</th>\n",
       "      <td>11614</td>\n",
       "      <td>1631.0</td>\n",
       "    </tr>\n",
       "    <tr>\n",
       "      <th>5</th>\n",
       "      <td>11615</td>\n",
       "      <td>1246.0</td>\n",
       "    </tr>\n",
       "  </tbody>\n",
       "</table>\n",
       "</div>"
      ],
      "text/plain": [
       "    Puma  OY Count\n",
       "0  11610    1870.0\n",
       "1  11611    2110.0\n",
       "2  11612    2125.0\n",
       "3  11613    2133.0\n",
       "4  11614    1631.0\n",
       "5  11615    1246.0"
      ]
     },
     "execution_count": 30,
     "metadata": {},
     "output_type": "execute_result"
    }
   ],
   "source": [
    "oy_by_puma"
   ]
  },
  {
   "cell_type": "code",
   "execution_count": 18,
   "metadata": {},
   "outputs": [],
   "source": [
    "oy_by_age = pd.DataFrame()"
   ]
  },
  {
   "cell_type": "code",
   "execution_count": 19,
   "metadata": {},
   "outputs": [],
   "source": [
    "## creating datafram mimicing 1st table Opportunity Youth Status by Age from previous study\n",
    "oy_by_age[' '] = [\n",
    "    'Total Population',\n",
    "    'Opportunity Youth',\n",
    "    'Working Without Diploma',\n",
    "    'Not an Opportunity Youth'\n",
    "]\n",
    "\n",
    "oy_by_age['16-18 (%)'] = [\n",
    "    ratio_plz(ay_df_16_18, ay_df_16_18),\n",
    "    ratio_plz(oy_df_16_18, ay_df_16_18),\n",
    "    ratio_plz(ry_df_16_18, ay_df_16_18),\n",
    "    ratio_plz(not_oy(ay_df_16_18, oy_df_16_18, ry_df_16_18), ay_df_16_18)\n",
    "]\n",
    "\n",
    "oy_by_age['16-18 Values'] = [\n",
    "    sum_plz(ay_df_16_18),\n",
    "    sum_plz(oy_df_16_18),\n",
    "    sum_plz(ry_df_16_18),\n",
    "    not_oy(ay_df_16_18, oy_df_16_18, ry_df_16_18)\n",
    "]\n",
    "\n",
    "oy_by_age['19-21 (%)'] = [\n",
    "    ratio_plz(ay_df_19_21, ay_df_19_21),\n",
    "    ratio_plz(oy_df_19_21, ay_df_19_21),\n",
    "    ratio_plz(ry_df_19_21, ay_df_19_21),\n",
    "    ratio_plz(not_oy(ay_df_19_21, oy_df_19_21, ry_df_19_21), ay_df_19_21)\n",
    "]\n",
    "\n",
    "oy_by_age['19-21 Values'] = [\n",
    "    sum_plz(ay_df_19_21),\n",
    "    sum_plz(oy_df_19_21),\n",
    "    sum_plz(ry_df_19_21),\n",
    "    not_oy(ay_df_19_21, oy_df_19_21, ry_df_19_21)\n",
    "]\n",
    "\n",
    "oy_by_age['22-24 (%)'] = [\n",
    "    ratio_plz(ay_df_22_24, ay_df_22_24),\n",
    "    ratio_plz(oy_df_22_24, ay_df_22_24),\n",
    "    ratio_plz(ry_df_22_24, ay_df_22_24),\n",
    "    ratio_plz(not_oy(ay_df_22_24, oy_df_22_24, ry_df_22_24), ay_df_22_24)\n",
    "]\n",
    "\n",
    "oy_by_age['22-24 Values'] = [\n",
    "    sum_plz(ay_df_22_24),\n",
    "    sum_plz(oy_df_22_24),\n",
    "    sum_plz(ry_df_22_24),\n",
    "    not_oy(ay_df_22_24, oy_df_22_24, ry_df_22_24)\n",
    "]\n",
    "\n",
    "oy_by_age['Totals (%)'] = [\n",
    "    ratio_plz(ay_df, ay_df),\n",
    "    ratio_plz(oy_df, ay_df),\n",
    "    ratio_plz(ry_df, ay_df),\n",
    "    ratio_plz(not_oy(ay_df, oy_df, ry_df), ay_df)\n",
    "]\n",
    "\n",
    "oy_by_age['Totals Values'] = [\n",
    "    sum_plz(ay_df),\n",
    "    sum_plz(oy_df),\n",
    "    sum_plz(ry_df),\n",
    "    not_oy(ay_df, oy_df, ry_df)\n",
    "]"
   ]
  },
  {
   "cell_type": "code",
   "execution_count": 20,
   "metadata": {
    "scrolled": false
   },
   "outputs": [
    {
     "data": {
      "text/html": [
       "<div>\n",
       "<style scoped>\n",
       "    .dataframe tbody tr th:only-of-type {\n",
       "        vertical-align: middle;\n",
       "    }\n",
       "\n",
       "    .dataframe tbody tr th {\n",
       "        vertical-align: top;\n",
       "    }\n",
       "\n",
       "    .dataframe thead th {\n",
       "        text-align: right;\n",
       "    }\n",
       "</style>\n",
       "<table border=\"1\" class=\"dataframe\">\n",
       "  <thead>\n",
       "    <tr style=\"text-align: right;\">\n",
       "      <th></th>\n",
       "      <th></th>\n",
       "      <th>16-18 (%)</th>\n",
       "      <th>16-18 Values</th>\n",
       "      <th>19-21 (%)</th>\n",
       "      <th>19-21 Values</th>\n",
       "      <th>22-24 (%)</th>\n",
       "      <th>22-24 Values</th>\n",
       "      <th>Totals (%)</th>\n",
       "      <th>Totals Values</th>\n",
       "    </tr>\n",
       "  </thead>\n",
       "  <tbody>\n",
       "    <tr>\n",
       "      <th>0</th>\n",
       "      <td>Total Population</td>\n",
       "      <td>100</td>\n",
       "      <td>30141.0</td>\n",
       "      <td>100</td>\n",
       "      <td>25486.0</td>\n",
       "      <td>100</td>\n",
       "      <td>30256.0</td>\n",
       "      <td>100</td>\n",
       "      <td>85883.0</td>\n",
       "    </tr>\n",
       "    <tr>\n",
       "      <th>1</th>\n",
       "      <td>Opportunity Youth</td>\n",
       "      <td>6</td>\n",
       "      <td>1815.0</td>\n",
       "      <td>16</td>\n",
       "      <td>4083.0</td>\n",
       "      <td>17</td>\n",
       "      <td>5217.0</td>\n",
       "      <td>13</td>\n",
       "      <td>11115.0</td>\n",
       "    </tr>\n",
       "    <tr>\n",
       "      <th>2</th>\n",
       "      <td>Working Without Diploma</td>\n",
       "      <td>1</td>\n",
       "      <td>449.0</td>\n",
       "      <td>5</td>\n",
       "      <td>1377.0</td>\n",
       "      <td>5</td>\n",
       "      <td>1589.0</td>\n",
       "      <td>4</td>\n",
       "      <td>3415.0</td>\n",
       "    </tr>\n",
       "    <tr>\n",
       "      <th>3</th>\n",
       "      <td>Not an Opportunity Youth</td>\n",
       "      <td>92</td>\n",
       "      <td>27877.0</td>\n",
       "      <td>79</td>\n",
       "      <td>20026.0</td>\n",
       "      <td>78</td>\n",
       "      <td>23450.0</td>\n",
       "      <td>83</td>\n",
       "      <td>71353.0</td>\n",
       "    </tr>\n",
       "  </tbody>\n",
       "</table>\n",
       "</div>"
      ],
      "text/plain": [
       "                             16-18 (%)  16-18 Values  19-21 (%)  19-21 Values  \\\n",
       "0          Total Population        100       30141.0        100       25486.0   \n",
       "1         Opportunity Youth          6        1815.0         16        4083.0   \n",
       "2   Working Without Diploma          1         449.0          5        1377.0   \n",
       "3  Not an Opportunity Youth         92       27877.0         79       20026.0   \n",
       "\n",
       "   22-24 (%)  22-24 Values  Totals (%)  Totals Values  \n",
       "0        100       30256.0         100        85883.0  \n",
       "1         17        5217.0          13        11115.0  \n",
       "2          5        1589.0           4         3415.0  \n",
       "3         78       23450.0          83        71353.0  "
      ]
     },
     "execution_count": 20,
     "metadata": {},
     "output_type": "execute_result"
    }
   ],
   "source": [
    "#test to confirm success of dataframe creation\n",
    "oy_by_age"
   ]
  },
  {
   "cell_type": "code",
   "execution_count": 21,
   "metadata": {},
   "outputs": [],
   "source": [
    "##export to csv\n",
    "# oy_by_age.to_csv('oy_by_age.csv')"
   ]
  },
  {
   "cell_type": "code",
   "execution_count": 22,
   "metadata": {},
   "outputs": [],
   "source": [
    "def no_dip(df1, df2, df3, df4):\n",
    "    return int(sum_plz(df1) - sum_plz(df2) - sum_plz(df3) - sum_plz(df4))\n",
    "def make_hsged_df(df):\n",
    "    return df[df['schl'].isin([16,17])]\n",
    "def make_some_df(df):\n",
    "    return df[df['schl'].isin([18,19])]\n",
    "def make_degree_df(df):\n",
    "    return df[df['schl'].isin([20,21,22,23,24])]"
   ]
  },
  {
   "cell_type": "code",
   "execution_count": 23,
   "metadata": {
    "scrolled": false
   },
   "outputs": [],
   "source": [
    "###generate df of OY based on education level within each age bracket\n",
    "oy_df_hsged = make_hsged_df(oy_df)\n",
    "oy_df_some = make_some_df(oy_df)\n",
    "oy_df_degree = make_degree_df(oy_df)\n",
    "oy_df_nodip = no_dip(oy_df, oy_df_hsged, oy_df_some, oy_df_degree)\n",
    "\n",
    "oy_df_16_18_hsged = make_hsged_df(oy_df_16_18)\n",
    "oy_df_16_18_some = make_some_df(oy_df_16_18)\n",
    "oy_df_16_18_degree = make_degree_df(oy_df_16_18)\n",
    "oy_df_16_18_nodip = no_dip(oy_df_16_18, oy_df_16_18_hsged, oy_df_16_18_some, oy_df_16_18_degree)\n",
    "\n",
    "oy_df_19_21_hsged = make_hsged_df(oy_df_19_21)\n",
    "oy_df_19_21_some = make_some_df(oy_df_19_21)\n",
    "oy_df_19_21_degree = make_degree_df(oy_df_19_21)\n",
    "oy_df_19_21_nodip = no_dip(oy_df_19_21, oy_df_19_21_hsged, oy_df_19_21_some, oy_df_19_21_degree)\n",
    "\n",
    "oy_df_22_24_hsged = make_hsged_df(oy_df_22_24)\n",
    "oy_df_22_24_some = make_some_df(oy_df_22_24)\n",
    "oy_df_22_24_degree = make_degree_df(oy_df_22_24)\n",
    "oy_df_22_24_nodip = no_dip(oy_df_22_24, oy_df_22_24_hsged, oy_df_22_24_some, oy_df_22_24_degree)"
   ]
  },
  {
   "cell_type": "code",
   "execution_count": 24,
   "metadata": {
    "scrolled": true
   },
   "outputs": [],
   "source": [
    "oy_by_education = pd.DataFrame()"
   ]
  },
  {
   "cell_type": "code",
   "execution_count": 25,
   "metadata": {},
   "outputs": [],
   "source": [
    "###generate df of OY based on education level, mimicing 2nd table Opportunity Youth Status by Age from previous study\n",
    "oy_by_education[' '] = [\n",
    "    'Opportunity Youth',\n",
    "    'No Diploma',\n",
    "    'HS or GED',\n",
    "    'Some College, No Degree',\n",
    "    'College Degree (associates+)'\n",
    "]\n",
    "\n",
    "oy_by_education['16-18 (%)'] = [\n",
    "    ratio_plz(oy_df_16_18, oy_df_16_18),\n",
    "    ratio_plz(oy_df_16_18_nodip, oy_df_16_18),\n",
    "    ratio_plz(oy_df_16_18_hsged, oy_df_16_18),\n",
    "    ratio_plz(oy_df_16_18_some, oy_df_16_18),\n",
    "    ratio_plz(oy_df_16_18_degree, oy_df_16_18)\n",
    "]\n",
    "\n",
    "oy_by_education['16-18 Values'] = [\n",
    "    sum_plz(oy_df_16_18),\n",
    "    sum_plz(oy_df_16_18_nodip),\n",
    "    sum_plz(oy_df_16_18_hsged),\n",
    "    sum_plz(oy_df_16_18_some),\n",
    "    sum_plz(oy_df_16_18_degree)\n",
    "]\n",
    "\n",
    "oy_by_education['19-21 (%)'] = [\n",
    "    ratio_plz(oy_df_19_21, oy_df_19_21),\n",
    "    ratio_plz(oy_df_19_21_nodip, oy_df_19_21),\n",
    "    ratio_plz(oy_df_19_21_hsged, oy_df_19_21),\n",
    "    ratio_plz(oy_df_19_21_some, oy_df_19_21),\n",
    "    ratio_plz(oy_df_19_21_degree, oy_df_19_21)\n",
    "]\n",
    "\n",
    "oy_by_education['19-21 Values'] = [\n",
    "    sum_plz(oy_df_19_21),\n",
    "    sum_plz(oy_df_19_21_nodip),\n",
    "    sum_plz(oy_df_19_21_hsged),\n",
    "    sum_plz(oy_df_19_21_some),\n",
    "    sum_plz(oy_df_19_21_degree)\n",
    "]\n",
    "\n",
    "oy_by_education['22-24 (%)'] = [\n",
    "    ratio_plz(oy_df_22_24, oy_df_22_24),\n",
    "    ratio_plz(oy_df_22_24_nodip, oy_df_22_24),\n",
    "    ratio_plz(oy_df_22_24_hsged, oy_df_22_24),\n",
    "    ratio_plz(oy_df_22_24_some, oy_df_22_24),\n",
    "    ratio_plz(oy_df_22_24_degree, oy_df_22_24)\n",
    "]\n",
    "\n",
    "oy_by_education['22-24 Values'] = [\n",
    "    sum_plz(oy_df_22_24),\n",
    "    sum_plz(oy_df_22_24_nodip),\n",
    "    sum_plz(oy_df_22_24_hsged),\n",
    "    sum_plz(oy_df_22_24_some),\n",
    "    sum_plz(oy_df_22_24_degree)\n",
    "]\n",
    "\n",
    "oy_by_education['Totals (%)'] = [\n",
    "    ratio_plz(oy_df, oy_df),\n",
    "    ratio_plz(oy_df_nodip, oy_df),\n",
    "    ratio_plz(oy_df_hsged, oy_df),\n",
    "    ratio_plz(oy_df_some, oy_df),\n",
    "    ratio_plz(oy_df_degree, oy_df)\n",
    "]\n",
    "\n",
    "oy_by_education['Totals Values'] = [\n",
    "    sum_plz(oy_df),\n",
    "    sum_plz(oy_df_nodip),\n",
    "    sum_plz(oy_df_hsged),\n",
    "    sum_plz(oy_df_some),\n",
    "    sum_plz(oy_df_degree)\n",
    "]"
   ]
  },
  {
   "cell_type": "code",
   "execution_count": 26,
   "metadata": {
    "scrolled": true
   },
   "outputs": [
    {
     "data": {
      "text/html": [
       "<div>\n",
       "<style scoped>\n",
       "    .dataframe tbody tr th:only-of-type {\n",
       "        vertical-align: middle;\n",
       "    }\n",
       "\n",
       "    .dataframe tbody tr th {\n",
       "        vertical-align: top;\n",
       "    }\n",
       "\n",
       "    .dataframe thead th {\n",
       "        text-align: right;\n",
       "    }\n",
       "</style>\n",
       "<table border=\"1\" class=\"dataframe\">\n",
       "  <thead>\n",
       "    <tr style=\"text-align: right;\">\n",
       "      <th></th>\n",
       "      <th></th>\n",
       "      <th>16-18 (%)</th>\n",
       "      <th>16-18 Values</th>\n",
       "      <th>19-21 (%)</th>\n",
       "      <th>19-21 Values</th>\n",
       "      <th>22-24 (%)</th>\n",
       "      <th>22-24 Values</th>\n",
       "      <th>Totals (%)</th>\n",
       "      <th>Totals Values</th>\n",
       "    </tr>\n",
       "  </thead>\n",
       "  <tbody>\n",
       "    <tr>\n",
       "      <th>0</th>\n",
       "      <td>Opportunity Youth</td>\n",
       "      <td>100</td>\n",
       "      <td>1815.0</td>\n",
       "      <td>100</td>\n",
       "      <td>4083.0</td>\n",
       "      <td>100</td>\n",
       "      <td>5217.0</td>\n",
       "      <td>100</td>\n",
       "      <td>11115.0</td>\n",
       "    </tr>\n",
       "    <tr>\n",
       "      <th>1</th>\n",
       "      <td>No Diploma</td>\n",
       "      <td>50</td>\n",
       "      <td>916.0</td>\n",
       "      <td>28</td>\n",
       "      <td>1135.0</td>\n",
       "      <td>27</td>\n",
       "      <td>1391.0</td>\n",
       "      <td>31</td>\n",
       "      <td>3442.0</td>\n",
       "    </tr>\n",
       "    <tr>\n",
       "      <th>2</th>\n",
       "      <td>HS or GED</td>\n",
       "      <td>43</td>\n",
       "      <td>781.0</td>\n",
       "      <td>53</td>\n",
       "      <td>2183.0</td>\n",
       "      <td>45</td>\n",
       "      <td>2325.0</td>\n",
       "      <td>48</td>\n",
       "      <td>5289.0</td>\n",
       "    </tr>\n",
       "    <tr>\n",
       "      <th>3</th>\n",
       "      <td>Some College, No Degree</td>\n",
       "      <td>7</td>\n",
       "      <td>118.0</td>\n",
       "      <td>16</td>\n",
       "      <td>649.0</td>\n",
       "      <td>21</td>\n",
       "      <td>1074.0</td>\n",
       "      <td>17</td>\n",
       "      <td>1841.0</td>\n",
       "    </tr>\n",
       "    <tr>\n",
       "      <th>4</th>\n",
       "      <td>College Degree (associates+)</td>\n",
       "      <td>0</td>\n",
       "      <td>0.0</td>\n",
       "      <td>3</td>\n",
       "      <td>116.0</td>\n",
       "      <td>8</td>\n",
       "      <td>427.0</td>\n",
       "      <td>5</td>\n",
       "      <td>543.0</td>\n",
       "    </tr>\n",
       "  </tbody>\n",
       "</table>\n",
       "</div>"
      ],
      "text/plain": [
       "                                 16-18 (%)  16-18 Values  19-21 (%)  \\\n",
       "0             Opportunity Youth        100        1815.0        100   \n",
       "1                    No Diploma         50         916.0         28   \n",
       "2                     HS or GED         43         781.0         53   \n",
       "3       Some College, No Degree          7         118.0         16   \n",
       "4  College Degree (associates+)          0           0.0          3   \n",
       "\n",
       "   19-21 Values  22-24 (%)  22-24 Values  Totals (%)  Totals Values  \n",
       "0        4083.0        100        5217.0         100        11115.0  \n",
       "1        1135.0         27        1391.0          31         3442.0  \n",
       "2        2183.0         45        2325.0          48         5289.0  \n",
       "3         649.0         21        1074.0          17         1841.0  \n",
       "4         116.0          8         427.0           5          543.0  "
      ]
     },
     "execution_count": 26,
     "metadata": {},
     "output_type": "execute_result"
    }
   ],
   "source": [
    "oy_by_education"
   ]
  },
  {
   "cell_type": "code",
   "execution_count": 27,
   "metadata": {},
   "outputs": [],
   "source": [
    "# oy_by_education.to_csv('oy_by_education.csv')"
   ]
  },
  {
   "cell_type": "code",
   "execution_count": 33,
   "metadata": {},
   "outputs": [],
   "source": []
  },
  {
   "cell_type": "code",
   "execution_count": 34,
   "metadata": {},
   "outputs": [],
   "source": [
    "###hard coding values from previous study into dataframe for visualization manipulation\n",
    "oy_by_education_2016 = pd.DataFrame()\n",
    "oy_by_education_2016[' '] = [ \n",
    "    'Opportunity Youth',\n",
    "    'No Diploma',\n",
    "    'HS or GED',\n",
    "    'Some College, No Degree',\n",
    "    'College Degree (associates+)'\n",
    "]\n",
    "\n",
    "oy_by_education_2016['16-18 (%)'] = [100, 57, 35, 6, 1]\n",
    "oy_by_education_2016['16-18 Values'] = [2805, 1610, 985, 179, 31]\n",
    "\n",
    "oy_by_education_2016['19-21 (%)'] = [100, 28, 46, 23, 3]\n",
    "oy_by_education_2016['19-21 Values'] = [7284, 2048, 3349, 1666, 221]\n",
    "\n",
    "oy_by_education_2016['22-24 (%)'] = [100, 23, 35, 20, 22]\n",
    "oy_by_education_2016['22-24 Values'] = [8728, 1981, 3067, 1763, 1917]\n",
    "\n",
    "oy_by_education_2016['Totals (%)'] = [100, 30, 39, 19, 12]\n",
    "oy_by_education_2016['Totals Values'] = [18817, 5639, 7401, 3608, 2169]"
   ]
  },
  {
   "cell_type": "code",
   "execution_count": 38,
   "metadata": {},
   "outputs": [],
   "source": [
    "oy_by_education_2016.to_csv('oy_by_education_2016.csv')"
   ]
  },
  {
   "cell_type": "code",
   "execution_count": 37,
   "metadata": {},
   "outputs": [
    {
     "name": "stdout",
     "output_type": "stream",
     "text": [
      "01_erh_download_and_explore_data.ipynb  oy_by_age.csv\r\n",
      "02_samt_exploratory.ipynb               oy_by_education.csv\r\n",
      "02_samt_v2_exploratory.ipynb            oy_by_education_2016.csv\r\n",
      "Kyle_Exploration.ipynb                  oy_df.csv\r\n",
      "README.md                               oy_df_16_18.csv\r\n",
      "age_data.csv                            oy_df_19_21.csv\r\n",
      "ay_df.csv                               oy_df_22_24.csv\r\n",
      "ay_df_16_18.csv                         project_outcomes.ipynb\r\n",
      "ay_df_19_21.csv                         racial_data.csv\r\n",
      "ay_df_22_24.csv                         ry_df.csv\r\n",
      "kyle_the_seconding.ipynb                ry_df_16_18.csv\r\n",
      "opportunity_youth                       ry_df_19_21.csv\r\n",
      "opportunity_youth.sqlite                ry_df_22_24.csv\r\n"
     ]
    }
   ],
   "source": [
    "ls"
   ]
  },
  {
   "cell_type": "code",
   "execution_count": null,
   "metadata": {},
   "outputs": [],
   "source": []
  }
 ],
 "metadata": {
  "kernelspec": {
   "display_name": "Python 3 (oy-env)",
   "language": "python",
   "name": "oy-env"
  },
  "language_info": {
   "codemirror_mode": {
    "name": "ipython",
    "version": 3
   },
   "file_extension": ".py",
   "mimetype": "text/x-python",
   "name": "python",
   "nbconvert_exporter": "python",
   "pygments_lexer": "ipython3",
   "version": "3.8.1"
  }
 },
 "nbformat": 4,
 "nbformat_minor": 2
}
