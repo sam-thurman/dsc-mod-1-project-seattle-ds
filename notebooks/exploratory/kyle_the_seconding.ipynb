{
 "cells": [
  {
   "cell_type": "code",
   "execution_count": 83,
   "metadata": {
    "scrolled": true
   },
   "outputs": [
    {
     "name": "stdout",
     "output_type": "stream",
     "text": [
      "The autoreload extension is already loaded. To reload it, use:\n",
      "  %reload_ext autoreload\n"
     ]
    }
   ],
   "source": [
    "%load_ext autoreload\n",
    "%autoreload 2"
   ]
  },
  {
   "cell_type": "code",
   "execution_count": 84,
   "metadata": {},
   "outputs": [],
   "source": [
    "import os\n",
    "import sys\n",
    "module_path = os.path.abspath(os.path.join(os.pardir, os.pardir))\n",
    "if module_path not in sys.path:\n",
    "    sys.path.append(module_path)\n",
    "    \n",
    "import psycopg2\n",
    "import pandas as pd\n",
    "\n",
    "import numpy as np"
   ]
  },
  {
   "cell_type": "code",
   "execution_count": 85,
   "metadata": {
    "scrolled": true
   },
   "outputs": [
    {
     "data": {
      "text/html": [
       "<div>\n",
       "<style scoped>\n",
       "    .dataframe tbody tr th:only-of-type {\n",
       "        vertical-align: middle;\n",
       "    }\n",
       "\n",
       "    .dataframe tbody tr th {\n",
       "        vertical-align: top;\n",
       "    }\n",
       "\n",
       "    .dataframe thead th {\n",
       "        text-align: right;\n",
       "    }\n",
       "</style>\n",
       "<table border=\"1\" class=\"dataframe\">\n",
       "  <thead>\n",
       "    <tr style=\"text-align: right;\">\n",
       "      <th></th>\n",
       "      <th>count</th>\n",
       "    </tr>\n",
       "  </thead>\n",
       "  <tbody>\n",
       "    <tr>\n",
       "      <th>0</th>\n",
       "      <td>359075</td>\n",
       "    </tr>\n",
       "  </tbody>\n",
       "</table>\n",
       "</div>"
      ],
      "text/plain": [
       "    count\n",
       "0  359075"
      ]
     },
     "execution_count": 85,
     "metadata": {},
     "output_type": "execute_result"
    }
   ],
   "source": [
    "DBNAME = \"opportunity_youth\"\n",
    "\n",
    "conn = psycopg2.connect(dbname=DBNAME)\n",
    "cur = conn.cursor()\n",
    "\n",
    "df = pd.read_sql(\"SELECT COUNT(*) FROM pums_2017;\", conn)\n",
    "df"
   ]
  },
  {
   "cell_type": "code",
   "execution_count": 86,
   "metadata": {
    "scrolled": true
   },
   "outputs": [],
   "source": [
    "### pull in ay_df schema data frames from csv files, remove additional index column\n",
    "ay_df = pd.read_csv('ay_df.csv')\n",
    "ay_df = ay_df.drop(['Unnamed: 0'], axis=1)\n",
    "\n",
    "ay_df_16_18 = pd.read_csv('ay_df_16_18.csv')\n",
    "ay_df_16_18 = ay_df_16_18.drop(['Unnamed: 0'], axis=1)\n",
    "\n",
    "ay_df_19_21 = pd.read_csv('ay_df_19_21.csv')\n",
    "ay_df_19_21 = ay_df_19_21.drop(['Unnamed: 0'], axis=1)\n",
    "\n",
    "ay_df_22_24 = pd.read_csv('ay_df_22_24.csv')\n",
    "ay_df_22_24 = ay_df_22_24.drop(['Unnamed: 0'], axis=1)"
   ]
  },
  {
   "cell_type": "code",
   "execution_count": 87,
   "metadata": {},
   "outputs": [],
   "source": [
    "#pull in oy_schema data frames from csv files, remove additional index column\n",
    "oy_df = pd.read_csv('oy_df.csv')\n",
    "oy_df = oy_df.drop(['Unnamed: 0'], axis=1)\n",
    "\n",
    "oy_df_16_18 = pd.read_csv('oy_df_16_18.csv')\n",
    "oy_df_16_18 = oy_df_16_18.drop(['Unnamed: 0'], axis=1)\n",
    "\n",
    "oy_df_19_21 = pd.read_csv('oy_df_19_21.csv')\n",
    "oy_df_19_21 = oy_df_19_21.drop(['Unnamed: 0'], axis=1)\n",
    "\n",
    "oy_df_22_24 = pd.read_csv('oy_df_22_24.csv')\n",
    "oy_df_22_24 = oy_df_22_24.drop(['Unnamed: 0'], axis=1)"
   ]
  },
  {
   "cell_type": "code",
   "execution_count": 88,
   "metadata": {},
   "outputs": [],
   "source": [
    "#pull in ry_schema data frames from csv files, remove additional index column\n",
    "ry_df = pd.read_csv('ry_df.csv')\n",
    "ry_df = ry_df.drop(['Unnamed: 0'], axis=1)\n",
    "\n",
    "ry_df_16_18 = pd.read_csv('ry_df_16_18.csv')\n",
    "ry_df_16_18 = ry_df_16_18.drop(['Unnamed: 0'], axis=1)\n",
    "\n",
    "ry_df_19_21 = pd.read_csv('ry_df_19_21.csv')\n",
    "ry_df_19_21 = ry_df_19_21.drop(['Unnamed: 0'], axis=1)\n",
    "\n",
    "ry_df_22_24 = pd.read_csv('ry_df_22_24.csv')\n",
    "ry_df_22_24 = ry_df_22_24.drop(['Unnamed: 0'], axis=1)"
   ]
  },
  {
   "cell_type": "markdown",
   "metadata": {},
   "source": [
    "## For Wed -- tertiary DF creation (employed_wo_diploma)\n",
    "\n",
    "account for Working people without diplomas\n",
    "\n",
    "pull from 'ay' sub age groups & condition for Working=Yes, and SCHL =! (16, 17, 18, 19, 20, 21, 22, 23, 24)\n",
    "\n",
    "be sure to subtract this new DF from the dfa sum in the 'not_oy' function (otherwise these people will be counted twice in the total)"
   ]
  },
  {
   "cell_type": "code",
   "execution_count": 89,
   "metadata": {
    "scrolled": true
   },
   "outputs": [],
   "source": [
    "def sum_plz(df):\n",
    "    if type(df) == pd.core.frame.DataFrame:\n",
    "        return sum(df['pwgtp'])\n",
    "    else:\n",
    "        return df"
   ]
  },
  {
   "cell_type": "code",
   "execution_count": 90,
   "metadata": {
    "scrolled": true
   },
   "outputs": [
    {
     "data": {
      "text/plain": [
       "85883.0"
      ]
     },
     "execution_count": 90,
     "metadata": {},
     "output_type": "execute_result"
    }
   ],
   "source": [
    "sum_plz(ay_df)"
   ]
  },
  {
   "cell_type": "code",
   "execution_count": 91,
   "metadata": {},
   "outputs": [],
   "source": [
    "def ratio_plz(df1, df2):\n",
    "    return round(\n",
    "                (sum_plz(df1) / sum_plz(df2)) * 100\n",
    "                )"
   ]
  },
  {
   "cell_type": "code",
   "execution_count": 92,
   "metadata": {
    "scrolled": true
   },
   "outputs": [
    {
     "data": {
      "text/plain": [
       "13"
      ]
     },
     "execution_count": 92,
     "metadata": {},
     "output_type": "execute_result"
    }
   ],
   "source": [
    "ratio_plz(oy_df, ay_df)"
   ]
  },
  {
   "cell_type": "code",
   "execution_count": 93,
   "metadata": {},
   "outputs": [
    {
     "data": {
      "text/plain": [
       "True"
      ]
     },
     "execution_count": 93,
     "metadata": {},
     "output_type": "execute_result"
    }
   ],
   "source": [
    "type(ay_df) == pd.core.frame.DataFrame"
   ]
  },
  {
   "cell_type": "code",
   "execution_count": 94,
   "metadata": {},
   "outputs": [],
   "source": [
    "def not_oy(dfa, dfo, dfr):\n",
    "    return int(sum_plz(dfa) - sum_plz(dfo) - sum_plz(dfr))"
   ]
  },
  {
   "cell_type": "code",
   "execution_count": 95,
   "metadata": {
    "scrolled": true
   },
   "outputs": [
    {
     "data": {
      "text/plain": [
       "92"
      ]
     },
     "execution_count": 95,
     "metadata": {},
     "output_type": "execute_result"
    }
   ],
   "source": [
    "ratio_plz(not_oy(ay_df_16_18, oy_df_16_18, ry_df_16_18), ay_df_16_18)"
   ]
  },
  {
   "cell_type": "code",
   "execution_count": 96,
   "metadata": {},
   "outputs": [],
   "source": [
    "oy_by_age = pd.DataFrame()"
   ]
  },
  {
   "cell_type": "code",
   "execution_count": 97,
   "metadata": {},
   "outputs": [],
   "source": [
    "## creating datafram mimicing Opportunity Youth Status by Age from previous study\n",
    "oy_by_age[' '] = [\n",
    "    'Total Population',\n",
    "    'Opportunity Youth',\n",
    "    'Working Without Diploma',\n",
    "    'Not an Opportunity Youth'\n",
    "]\n",
    "\n",
    "oy_by_age['16-18 (%)'] = [\n",
    "    ratio_plz(ay_df_16_18, ay_df_16_18),\n",
    "    ratio_plz(oy_df_16_18, ay_df_16_18),\n",
    "    ratio_plz(ry_df_16_18, ay_df_16_18),\n",
    "    ratio_plz(not_oy(ay_df_16_18, oy_df_16_18, ry_df_16_18), ay_df_16_18)\n",
    "]\n",
    "\n",
    "oy_by_age['16-18 Values'] = [\n",
    "    sum_plz(ay_df_16_18),\n",
    "    sum_plz(oy_df_16_18),\n",
    "    sum_plz(ry_df_16_18),\n",
    "    not_oy(ay_df_16_18, oy_df_16_18, ry_df_16_18)\n",
    "]\n",
    "\n",
    "oy_by_age['19-21 (%)'] = [\n",
    "    ratio_plz(ay_df_19_21, ay_df_19_21),\n",
    "    ratio_plz(oy_df_19_21, ay_df_19_21),\n",
    "    ratio_plz(ry_df_19_21, ay_df_19_21),\n",
    "    ratio_plz(not_oy(ay_df_19_21, oy_df_19_21, ry_df_19_21), ay_df_19_21)\n",
    "]\n",
    "\n",
    "oy_by_age['19-21 Values'] = [\n",
    "    sum_plz(ay_df_19_21),\n",
    "    sum_plz(oy_df_19_21),\n",
    "    sum_plz(ry_df_19_21),\n",
    "    not_oy(ay_df_19_21, oy_df_19_21, ry_df_19_21)\n",
    "]\n",
    "\n",
    "oy_by_age['22-24 (%)'] = [\n",
    "    ratio_plz(ay_df_22_24, ay_df_22_24),\n",
    "    ratio_plz(oy_df_22_24, ay_df_22_24),\n",
    "    ratio_plz(ry_df_22_24, ay_df_22_24),\n",
    "    ratio_plz(not_oy(ay_df_22_24, oy_df_22_24, ry_df_22_24), ay_df_22_24)\n",
    "]\n",
    "\n",
    "oy_by_age['22-24 Values'] = [\n",
    "    sum_plz(ay_df_22_24),\n",
    "    sum_plz(oy_df_22_24),\n",
    "    sum_plz(ry_df_22_24),\n",
    "    not_oy(ay_df_22_24, oy_df_22_24, ry_df_22_24)\n",
    "]\n",
    "\n",
    "oy_by_age['Totals (%)'] = [\n",
    "    ratio_plz(ay_df, ay_df),\n",
    "    ratio_plz(oy_df, ay_df),\n",
    "    ratio_plz(ry_df, ay_df),\n",
    "    ratio_plz(not_oy(ay_df, oy_df, ry_df), ay_df)\n",
    "]\n",
    "\n",
    "oy_by_age['Totals Values'] = [\n",
    "    sum_plz(ay_df),\n",
    "    sum_plz(oy_df),\n",
    "    sum_plz(ry_df),\n",
    "    not_oy(ay_df, oy_df, ry_df)\n",
    "]"
   ]
  },
  {
   "cell_type": "code",
   "execution_count": 98,
   "metadata": {
    "scrolled": false
   },
   "outputs": [
    {
     "data": {
      "text/html": [
       "<div>\n",
       "<style scoped>\n",
       "    .dataframe tbody tr th:only-of-type {\n",
       "        vertical-align: middle;\n",
       "    }\n",
       "\n",
       "    .dataframe tbody tr th {\n",
       "        vertical-align: top;\n",
       "    }\n",
       "\n",
       "    .dataframe thead th {\n",
       "        text-align: right;\n",
       "    }\n",
       "</style>\n",
       "<table border=\"1\" class=\"dataframe\">\n",
       "  <thead>\n",
       "    <tr style=\"text-align: right;\">\n",
       "      <th></th>\n",
       "      <th></th>\n",
       "      <th>16-18 (%)</th>\n",
       "      <th>16-18 Values</th>\n",
       "      <th>19-21 (%)</th>\n",
       "      <th>19-21 Values</th>\n",
       "      <th>22-24 (%)</th>\n",
       "      <th>22-24 Values</th>\n",
       "      <th>Totals (%)</th>\n",
       "      <th>Totals Values</th>\n",
       "    </tr>\n",
       "  </thead>\n",
       "  <tbody>\n",
       "    <tr>\n",
       "      <th>0</th>\n",
       "      <td>Total Population</td>\n",
       "      <td>100</td>\n",
       "      <td>30141.0</td>\n",
       "      <td>100</td>\n",
       "      <td>25486.0</td>\n",
       "      <td>100</td>\n",
       "      <td>30256.0</td>\n",
       "      <td>100</td>\n",
       "      <td>85883.0</td>\n",
       "    </tr>\n",
       "    <tr>\n",
       "      <th>1</th>\n",
       "      <td>Opportunity Youth</td>\n",
       "      <td>6</td>\n",
       "      <td>1815.0</td>\n",
       "      <td>16</td>\n",
       "      <td>4083.0</td>\n",
       "      <td>17</td>\n",
       "      <td>5217.0</td>\n",
       "      <td>13</td>\n",
       "      <td>11115.0</td>\n",
       "    </tr>\n",
       "    <tr>\n",
       "      <th>2</th>\n",
       "      <td>Working Without Diploma</td>\n",
       "      <td>1</td>\n",
       "      <td>449.0</td>\n",
       "      <td>5</td>\n",
       "      <td>1377.0</td>\n",
       "      <td>5</td>\n",
       "      <td>1589.0</td>\n",
       "      <td>4</td>\n",
       "      <td>3415.0</td>\n",
       "    </tr>\n",
       "    <tr>\n",
       "      <th>3</th>\n",
       "      <td>Not an Opportunity Youth</td>\n",
       "      <td>92</td>\n",
       "      <td>27877.0</td>\n",
       "      <td>79</td>\n",
       "      <td>20026.0</td>\n",
       "      <td>78</td>\n",
       "      <td>23450.0</td>\n",
       "      <td>83</td>\n",
       "      <td>71353.0</td>\n",
       "    </tr>\n",
       "  </tbody>\n",
       "</table>\n",
       "</div>"
      ],
      "text/plain": [
       "                             16-18 (%)  16-18 Values  19-21 (%)  19-21 Values  \\\n",
       "0          Total Population        100       30141.0        100       25486.0   \n",
       "1         Opportunity Youth          6        1815.0         16        4083.0   \n",
       "2   Working Without Diploma          1         449.0          5        1377.0   \n",
       "3  Not an Opportunity Youth         92       27877.0         79       20026.0   \n",
       "\n",
       "   22-24 (%)  22-24 Values  Totals (%)  Totals Values  \n",
       "0        100       30256.0         100        85883.0  \n",
       "1         17        5217.0          13        11115.0  \n",
       "2          5        1589.0           4         3415.0  \n",
       "3         78       23450.0          83        71353.0  "
      ]
     },
     "execution_count": 98,
     "metadata": {},
     "output_type": "execute_result"
    }
   ],
   "source": [
    "oy_by_age"
   ]
  },
  {
   "cell_type": "code",
   "execution_count": 99,
   "metadata": {},
   "outputs": [],
   "source": [
    "##export to cs\n",
    "oy_by_age.to_csv('oy_by_age.csv')"
   ]
  },
  {
   "cell_type": "code",
   "execution_count": null,
   "metadata": {},
   "outputs": [],
   "source": []
  }
 ],
 "metadata": {
  "kernelspec": {
   "display_name": "Python 3 (oy-env)",
   "language": "python",
   "name": "oy-env"
  },
  "language_info": {
   "codemirror_mode": {
    "name": "ipython",
    "version": 3
   },
   "file_extension": ".py",
   "mimetype": "text/x-python",
   "name": "python",
   "nbconvert_exporter": "python",
   "pygments_lexer": "ipython3",
   "version": "3.8.1"
  }
 },
 "nbformat": 4,
 "nbformat_minor": 2
}
