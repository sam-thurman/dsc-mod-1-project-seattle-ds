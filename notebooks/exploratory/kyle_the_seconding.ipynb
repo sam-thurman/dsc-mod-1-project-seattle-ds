{
 "cells": [
  {
   "cell_type": "code",
   "execution_count": 40,
   "metadata": {
    "scrolled": true
   },
   "outputs": [
    {
     "name": "stdout",
     "output_type": "stream",
     "text": [
      "The autoreload extension is already loaded. To reload it, use:\n",
      "  %reload_ext autoreload\n"
     ]
    }
   ],
   "source": [
    "%load_ext autoreload\n",
    "%autoreload 2"
   ]
  },
  {
   "cell_type": "code",
   "execution_count": 41,
   "metadata": {},
   "outputs": [],
   "source": [
    "import os\n",
    "import sys\n",
    "module_path = os.path.abspath(os.path.join(os.pardir, os.pardir))\n",
    "if module_path not in sys.path:\n",
    "    sys.path.append(module_path)\n",
    "    \n",
    "import psycopg2\n",
    "import pandas as pd\n",
    "\n",
    "import numpy as np"
   ]
  },
  {
   "cell_type": "code",
   "execution_count": 42,
   "metadata": {
    "scrolled": false
   },
   "outputs": [
    {
     "data": {
      "text/html": [
       "<div>\n",
       "<style scoped>\n",
       "    .dataframe tbody tr th:only-of-type {\n",
       "        vertical-align: middle;\n",
       "    }\n",
       "\n",
       "    .dataframe tbody tr th {\n",
       "        vertical-align: top;\n",
       "    }\n",
       "\n",
       "    .dataframe thead th {\n",
       "        text-align: right;\n",
       "    }\n",
       "</style>\n",
       "<table border=\"1\" class=\"dataframe\">\n",
       "  <thead>\n",
       "    <tr style=\"text-align: right;\">\n",
       "      <th></th>\n",
       "      <th>count</th>\n",
       "    </tr>\n",
       "  </thead>\n",
       "  <tbody>\n",
       "    <tr>\n",
       "      <th>0</th>\n",
       "      <td>359075</td>\n",
       "    </tr>\n",
       "  </tbody>\n",
       "</table>\n",
       "</div>"
      ],
      "text/plain": [
       "    count\n",
       "0  359075"
      ]
     },
     "execution_count": 42,
     "metadata": {},
     "output_type": "execute_result"
    }
   ],
   "source": [
    "DBNAME = \"opportunity_youth\"\n",
    "\n",
    "conn = psycopg2.connect(dbname=DBNAME)\n",
    "cur = conn.cursor()\n",
    "\n",
    "df = pd.read_sql(\"SELECT COUNT(*) FROM pums_2017;\", conn)\n",
    "df"
   ]
  },
  {
   "cell_type": "code",
   "execution_count": 43,
   "metadata": {
    "scrolled": true
   },
   "outputs": [],
   "source": [
    "### pull in data frames from csv files, remove additional index column\n",
    "ay_df = pd.read_csv('ay_df.csv')\n",
    "ay_df = ay_df.drop(['Unnamed: 0'], axis=1)\n",
    "\n",
    "ay_df_16_18 = pd.read_csv('ay_df_16_18.csv')\n",
    "ay_df_16_18 = ay_df_16_18.drop(['Unnamed: 0'], axis=1)\n",
    "\n",
    "ay_df_19_21 = pd.read_csv('ay_df_19_21.csv')\n",
    "ay_df_19_21 = ay_df_19_21.drop(['Unnamed: 0'], axis=1)\n",
    "\n",
    "ay_df_22_24 = pd.read_csv('ay_df_22_24.csv')\n",
    "ay_df_22_24 = ay_df_22_24.drop(['Unnamed: 0'], axis=1)\n",
    "\n",
    "oy_df = pd.read_csv('oy_df.csv')\n",
    "oy_df = oy_df.drop(['Unnamed: 0'], axis=1)\n",
    "\n",
    "oy_df_16_18 = pd.read_csv('oy_df_16_18.csv')\n",
    "oy_df_16_18 = oy_df_16_18.drop(['Unnamed: 0'], axis=1)\n",
    "\n",
    "oy_df_19_21 = pd.read_csv('oy_df_19_21.csv')\n",
    "oy_df_19_21 = oy_df_19_21.drop(['Unnamed: 0'], axis=1)\n",
    "\n",
    "oy_df_22_24 = pd.read_csv('oy_df_22_24.csv')\n",
    "oy_df_22_24 = oy_df_22_24.drop(['Unnamed: 0'], axis=1)"
   ]
  },
  {
   "cell_type": "markdown",
   "metadata": {},
   "source": [
    "## For Wed -- tertiary DF creation (employed_wo_diploma)\n",
    "\n",
    "account for Working people without diplomas\n",
    "\n",
    "pull from 'ay' sub age groups & condition for Working=Yes, and SCHL = (15, 16, 17, 18, 19, 20, 21, 22, 23, 24)\n",
    "\n",
    "be sure to subtract this new DF from the dfa sum in the 'not_oy' function (otherwise these people will be counted twice in the total)"
   ]
  },
  {
   "cell_type": "code",
   "execution_count": 49,
   "metadata": {
    "scrolled": true
   },
   "outputs": [],
   "source": [
    "def sum_plz(df):\n",
    "    return sum(df['pwgtp'])"
   ]
  },
  {
   "cell_type": "code",
   "execution_count": 45,
   "metadata": {},
   "outputs": [],
   "source": []
  },
  {
   "cell_type": "code",
   "execution_count": 46,
   "metadata": {
    "scrolled": true
   },
   "outputs": [
    {
     "data": {
      "text/plain": [
       "[1815.0, 4083.0, 5217.0]"
      ]
     },
     "execution_count": 46,
     "metadata": {},
     "output_type": "execute_result"
    }
   ],
   "source": []
  },
  {
   "cell_type": "code",
   "execution_count": 50,
   "metadata": {},
   "outputs": [],
   "source": [
    "def ratio_plz(df1, df2, df3):\n",
    "    return round((sum_plz(df1) / sum_plz(df2)) * 100)"
   ]
  },
  {
   "cell_type": "code",
   "execution_count": 51,
   "metadata": {},
   "outputs": [],
   "source": [
    "def not_oy(dfa, dfo):\n",
    "    return sum_plz(dfa) - sum_plz(dfo)"
   ]
  },
  {
   "cell_type": "code",
   "execution_count": null,
   "metadata": {},
   "outputs": [],
   "source": []
  }
 ],
 "metadata": {
  "kernelspec": {
   "display_name": "Python 3 (oy-env)",
   "language": "python",
   "name": "oy-env"
  },
  "language_info": {
   "codemirror_mode": {
    "name": "ipython",
    "version": 3
   },
   "file_extension": ".py",
   "mimetype": "text/x-python",
   "name": "python",
   "nbconvert_exporter": "python",
   "pygments_lexer": "ipython3",
   "version": "3.8.1"
  }
 },
 "nbformat": 4,
 "nbformat_minor": 2
}
