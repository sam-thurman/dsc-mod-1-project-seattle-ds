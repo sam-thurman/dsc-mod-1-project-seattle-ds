{
 "cells": [
  {
   "cell_type": "code",
   "execution_count": 1,
   "metadata": {
    "scrolled": true
   },
   "outputs": [],
   "source": [
    "%load_ext autoreload\n",
    "%autoreload 2\n"
   ]
  },
  {
   "cell_type": "code",
   "execution_count": 2,
   "metadata": {},
   "outputs": [],
   "source": [
    "import os\n",
    "import sys\n",
    "module_path = os.path.abspath(os.path.join(os.pardir, os.pardir))\n",
    "if module_path not in sys.path:\n",
    "    sys.path.append(module_path)"
   ]
  },
  {
   "cell_type": "code",
   "execution_count": 3,
   "metadata": {},
   "outputs": [],
   "source": [
    "import psycopg2\n",
    "import pandas as pd"
   ]
  },
  {
   "cell_type": "code",
   "execution_count": 4,
   "metadata": {},
   "outputs": [],
   "source": [
    "DBNAME = \"opportunity_youth\""
   ]
  },
  {
   "cell_type": "code",
   "execution_count": 5,
   "metadata": {},
   "outputs": [],
   "source": [
    "conn = psycopg2.connect(dbname=DBNAME)\n",
    "cur = conn.cursor()"
   ]
  },
  {
   "cell_type": "code",
   "execution_count": 6,
   "metadata": {
    "scrolled": true
   },
   "outputs": [
    {
     "data": {
      "text/html": [
       "<div>\n",
       "<style scoped>\n",
       "    .dataframe tbody tr th:only-of-type {\n",
       "        vertical-align: middle;\n",
       "    }\n",
       "\n",
       "    .dataframe tbody tr th {\n",
       "        vertical-align: top;\n",
       "    }\n",
       "\n",
       "    .dataframe thead th {\n",
       "        text-align: right;\n",
       "    }\n",
       "</style>\n",
       "<table border=\"1\" class=\"dataframe\">\n",
       "  <thead>\n",
       "    <tr style=\"text-align: right;\">\n",
       "      <th></th>\n",
       "      <th>count</th>\n",
       "    </tr>\n",
       "  </thead>\n",
       "  <tbody>\n",
       "    <tr>\n",
       "      <th>0</th>\n",
       "      <td>359075</td>\n",
       "    </tr>\n",
       "  </tbody>\n",
       "</table>\n",
       "</div>"
      ],
      "text/plain": [
       "    count\n",
       "0  359075"
      ]
     },
     "execution_count": 6,
     "metadata": {},
     "output_type": "execute_result"
    }
   ],
   "source": [
    "### checking that all rows are for people, not houses\n",
    "df = pd.read_sql(\"SELECT * FROM pums_2017;\", conn)"
   ]
  },
  {
   "cell_type": "code",
   "execution_count": 7,
   "metadata": {
    "scrolled": false
   },
   "outputs": [
    {
     "name": "stdout",
     "output_type": "stream",
     "text": [
      "('pums_2017',)\n",
      "('puma_names_2010',)\n",
      "('wa_jobs_2017',)\n",
      "('wa_geo_xwalk',)\n",
      "('ct_puma_xwalk',)\n"
     ]
    }
   ],
   "source": [
    "### find table names from Database\n",
    "cur.execute(\"\"\"SELECT table_name FROM information_schema.tables\n",
    "       WHERE table_schema = 'public'\"\"\")\n",
    "for table in cur.fetchall():\n",
    "    print(table)"
   ]
  },
  {
   "cell_type": "code",
   "execution_count": 36,
   "metadata": {
    "scrolled": false
   },
   "outputs": [
    {
     "name": "stdout",
     "output_type": "stream",
     "text": [
      "11606 : King County (Northwest)--Shoreline, Kenmore & Bothell (South) Cities                                                                                                                                                                                                                                                                                                                                                                                                                                                \n",
      "11607 : King County (Northwest)--Redmond, Kirkland Cities, Inglewood & Finn Hill                                                                                                                                                                                                                                                                                                                                                                                                                                            \n",
      "11608 : King County (Northwest Central)--Greater Bellevue City                                                                                                                                                                                                                                                                                                                                                                                                                                                              \n",
      "11609 : King County (Central)--Sammamish, Issaquah, Mercer Island & Newcastle Cities                                                                                                                                                                                                                                                                                                                                                                                                                                        \n",
      "11610 : King County (Central)--Renton City, Fairwood, Bryn Mawr & Skyway                                                                                                                                                                                                                                                                                                                                                                                                                                                    \n",
      "11613 : King County (Southwest Central)--Kent City                                                                                                                                                                                                                                                                                                                                                                                                                                                                          \n",
      "11614 : King County (Southwest)--Auburn City & Lakeland                                                                                                                                                                                                                                                                                                                                                                                                                                                                     \n",
      "11615 : King County (Southeast)--Maple Valley, Covington & Enumclaw Cities                                                                                                                                                                                                                                                                                                                                                                                                                                                  \n",
      "11616 : King County (Northeast)--Snoqualmie City, Cottage Lake, Union Hill & Novelty Hill                                                                                                                                                                                                                                                                                                                                                                                                                                   \n",
      "11611 : King County (West Central)--Burien, SeaTac, Tukwila Cities & White Center                                                                                                                                                                                                                                                                                                                                                                                                                                           \n",
      "11612 : King County (Far Southwest)--Federal Way, Des Moines Cities & Vashon Island                                                                                                                                                                                                                                                                                                                                                                                                                                         \n"
     ]
    }
   ],
   "source": [
    "### find King County puma id's from puma_names\n",
    "df = pd.read_sql(\"\"\"\n",
    "SELECT puma, puma_name\n",
    "FROM puma_names_2010\n",
    "WHERE state_fips= '53' AND puma_name LIKE '%King%'\n",
    "LIMIT 20\n",
    "\"\"\",\n",
    "           conn)\n",
    "\n",
    "indexer = 0\n",
    "for i in df['puma_name']:\n",
    "    print (df['puma'][indexer] + ' : ' + i)\n",
    "    indexer += 1"
   ]
  },
  {
   "cell_type": "code",
   "execution_count": 39,
   "metadata": {
    "scrolled": false
   },
   "outputs": [
    {
     "name": "stdout",
     "output_type": "stream",
     "text": [
      "11601 : Seattle City (Northwest)                                                                                                                                                                                                                                                                                                                                                                                                                                                                                            \n",
      "11602 : Seattle City (Northeast)                                                                                                                                                                                                                                                                                                                                                                                                                                                                                            \n",
      "11603 : Seattle City (Downtown)--Queen Anne & Magnolia                                                                                                                                                                                                                                                                                                                                                                                                                                                                      \n",
      "11604 : Seattle City (Southeast)--Capitol Hill                                                                                                                                                                                                                                                                                                                                                                                                                                                                              \n",
      "11605 : Seattle City (West)--Duwamish & Beacon Hill                                                                                                                                                                                                                                                                                                                                                                                                                                                                         \n"
     ]
    }
   ],
   "source": [
    "### find seattle puma id's from puma\n",
    "df = pd.read_sql(\"\"\"\n",
    "SELECT puma, puma_name\n",
    "FROM puma_names_2010\n",
    "WHERE puma_name LIKE '%Seattle%'\n",
    "LIMIT 20\n",
    "\"\"\",\n",
    "           conn)\n",
    "\n",
    "indexer = 0\n",
    "for i in df['puma_name']:\n",
    "    print (df['puma'][indexer] + ' : ' + i)\n",
    "    indexer += 1"
   ]
  },
  {
   "cell_type": "code",
   "execution_count": 10,
   "metadata": {
    "scrolled": true
   },
   "outputs": [
    {
     "data": {
      "text/html": [
       "<div>\n",
       "<style scoped>\n",
       "    .dataframe tbody tr th:only-of-type {\n",
       "        vertical-align: middle;\n",
       "    }\n",
       "\n",
       "    .dataframe tbody tr th {\n",
       "        vertical-align: top;\n",
       "    }\n",
       "\n",
       "    .dataframe thead th {\n",
       "        text-align: right;\n",
       "    }\n",
       "</style>\n",
       "<table border=\"1\" class=\"dataframe\">\n",
       "  <thead>\n",
       "    <tr style=\"text-align: right;\">\n",
       "      <th></th>\n",
       "      <th>count</th>\n",
       "    </tr>\n",
       "  </thead>\n",
       "  <tbody>\n",
       "    <tr>\n",
       "      <th>0</th>\n",
       "      <td>34145</td>\n",
       "    </tr>\n",
       "  </tbody>\n",
       "</table>\n",
       "</div>"
      ],
      "text/plain": [
       "   count\n",
       "0  34145"
      ]
     },
     "execution_count": 10,
     "metadata": {},
     "output_type": "execute_result"
    }
   ],
   "source": [
    "### limiting data by South King County\n",
    "pd.read_sql(\"\"\"\n",
    "SELECT COUNT(*)\n",
    "FROM pums_2017\n",
    "WHERE puma in ('11610', '11611', '11612', '11613', '11614', '11615')\n",
    "\"\"\",\n",
    "            conn)"
   ]
  },
  {
   "cell_type": "code",
   "execution_count": 11,
   "metadata": {
    "scrolled": false
   },
   "outputs": [],
   "source": [
    "### sql query that pulls all youth in SKC and writes to a csv file\n",
    "ay_df = pd.read_sql(\"\"\"\n",
    "SELECT *\n",
    "FROM pums_2017\n",
    "WHERE puma in ('11610', '11611', '11612', '11613', '11614', '11615')\n",
    "AND agep BETWEEN 16 AND 24\n",
    "\"\"\",\n",
    "            conn)\n",
    "\n",
    "# ay_df.to_csv('./ay_df.csv')"
   ]
  },
  {
   "cell_type": "markdown",
   "metadata": {},
   "source": [
    "the following csv files were moved to the Data folder after they were generated"
   ]
  },
  {
   "cell_type": "code",
   "execution_count": 12,
   "metadata": {},
   "outputs": [],
   "source": [
    "### create 3 dataframes based on age grouping of ay_df\n",
    "\n",
    "ay_df_16_18 =  pd.read_sql(\"\"\"\n",
    "SELECT *\n",
    "FROM pums_2017\n",
    "WHERE puma in ('11610', '11611', '11612', '11613', '11614', '11615')\n",
    "AND agep BETWEEN 16 AND 18\n",
    "\"\"\",\n",
    "            conn)\n",
    "\n",
    "# ay_df_16_18.to_csv('./ay_df_16_18.csv')\n",
    "\n",
    "ay_df_19_21 =  pd.read_sql(\"\"\"\n",
    "SELECT *\n",
    "FROM pums_2017\n",
    "WHERE puma in ('11610', '11611', '11612', '11613', '11614', '11615')\n",
    "AND agep BETWEEN 19 AND 21\n",
    "\"\"\",\n",
    "            conn)\n",
    "\n",
    "# ay_df_19_21.to_csv('./ay_df_19_21.csv')\n",
    "\n",
    "ay_df_22_24 =  pd.read_sql(\"\"\"\n",
    "SELECT *\n",
    "FROM pums_2017\n",
    "WHERE puma in ('11610', '11611', '11612', '11613', '11614', '11615')\n",
    "AND agep BETWEEN 22 AND 24\n",
    "\"\"\",\n",
    "            conn)\n",
    "\n",
    "# ay_df_22_24.to_csv('./ay_df_22_24.csv')"
   ]
  },
  {
   "cell_type": "code",
   "execution_count": 13,
   "metadata": {
    "scrolled": false
   },
   "outputs": [],
   "source": [
    "### limiting data by unemployed status & school status, assigning to oy_df dataframe and csv\n",
    "oy_df = pd.read_sql(\"\"\"\n",
    "SELECT *\n",
    "FROM pums_2017\n",
    "WHERE puma in ('11610', '11611', '11612', '11613', '11614', '11615')\n",
    "AND agep BETWEEN 16 AND 24\n",
    "AND esr != '1'\n",
    "AND esr != '4'\n",
    "AND sch = '1'\n",
    "\"\"\",\n",
    "            conn)\n",
    "\n",
    "oy_df\n",
    "\n",
    "oy_total = sum(oy_df['pwgtp']) #used in racial calculations later\n",
    "# oy_df.to_csv('./oy_df.csv')"
   ]
  },
  {
   "cell_type": "markdown",
   "metadata": {},
   "source": [
    "the following csv files were moved to the Data folder after they were generated"
   ]
  },
  {
   "cell_type": "code",
   "execution_count": 14,
   "metadata": {},
   "outputs": [],
   "source": [
    "### create 3 dataframes based on age grouping of oy_df and move to csv\n",
    "\n",
    "oy_df_16_18 = pd.read_sql(\"\"\"\n",
    "SELECT *\n",
    "FROM pums_2017\n",
    "WHERE puma in ('11610', '11611', '11612', '11613', '11614', '11615')\n",
    "AND agep BETWEEN 16 AND 18\n",
    "AND esr != '1'\n",
    "AND esr != '4'\n",
    "AND sch = '1'\n",
    "\"\"\",\n",
    "            conn)\n",
    "\n",
    "# oy_df_16_18.to_csv('./oy_df_16_18.csv')\n",
    "\n",
    "oy_df_19_21 = pd.read_sql(\"\"\"\n",
    "SELECT *\n",
    "FROM pums_2017\n",
    "WHERE puma in ('11610', '11611', '11612', '11613', '11614', '11615')\n",
    "AND agep BETWEEN 19 AND 21\n",
    "AND esr != '1'\n",
    "AND esr != '4'\n",
    "AND sch = '1'\n",
    "\"\"\",\n",
    "            conn)\n",
    "\n",
    "# oy_df_19_21.to_csv('./oy_df_19_21.csv')\n",
    "\n",
    "oy_df_22_24 = pd.read_sql(\"\"\"\n",
    "SELECT *\n",
    "FROM pums_2017\n",
    "WHERE puma in ('11610', '11611', '11612', '11613', '11614', '11615')\n",
    "AND agep BETWEEN 22 AND 24\n",
    "AND esr != '1'\n",
    "AND esr != '4'\n",
    "AND sch = '1'\n",
    "\"\"\",\n",
    "            conn)\n",
    "\n",
    "# oy_df_22_24.to_csv('./oy_df_22_24.csv')"
   ]
  },
  {
   "cell_type": "code",
   "execution_count": 15,
   "metadata": {
    "scrolled": false
   },
   "outputs": [
    {
     "name": "stdout",
     "output_type": "stream",
     "text": [
      "85883.0\n",
      "11115.0\n",
      "the rate of OY across the whole youth population is 13%\n"
     ]
    }
   ],
   "source": [
    "\n",
    "print (sum(ay_df['pwgtp']))\n",
    "print (sum(oy_df['pwgtp']))\n",
    "\n",
    "overall_OY_rate = round((sum(oy_df['pwgtp'])) / (sum(ay_df['pwgtp'])) * 100)\n",
    "\n",
    "overall_OY_rate\n",
    "print (f'the rate of OY across the whole youth population is {overall_OY_rate}%')"
   ]
  },
  {
   "cell_type": "code",
   "execution_count": 16,
   "metadata": {
    "scrolled": true
   },
   "outputs": [
    {
     "name": "stdout",
     "output_type": "stream",
     "text": [
      "12\n",
      "50\n"
     ]
    }
   ],
   "source": [
    "white_ay = (sum(ay_df[ay_df['rac1p'] == '1']['pwgtp']))\n",
    "white_oy = (sum(oy_df[oy_df['rac1p'] == '1']['pwgtp']))\n",
    "\n",
    "white_oy_rate = round((white_oy / white_ay * 100))\n",
    "white_oy_rate\n",
    "\n",
    "white_prop_oy = round((white_oy / oy_total*100))\n",
    "print (white_oy_rate)\n",
    "print (white_prop_oy)"
   ]
  },
  {
   "cell_type": "code",
   "execution_count": 17,
   "metadata": {
    "scrolled": true
   },
   "outputs": [],
   "source": [
    "african_american_ay = (sum(ay_df[ay_df['rac1p'] == '2']['pwgtp']))\n",
    "african_american_oy = (sum(oy_df[oy_df['rac1p'] == '2']['pwgtp']))\n",
    "\n",
    "african_american_oy_rate = round((african_american_oy / african_american_ay * 100))\n",
    "african_american_oy_rate\n",
    "\n",
    "african_american_prop_oy = round((african_american_oy / oy_total*100))"
   ]
  },
  {
   "cell_type": "code",
   "execution_count": 18,
   "metadata": {},
   "outputs": [],
   "source": [
    "native_american_ay = sum(ay_df[ay_df['rac1p'] == '3']['pwgtp']) + sum(ay_df[ay_df['rac1p'] == '4']['pwgtp']) + sum(ay_df[ay_df['rac1p'] == '5']['pwgtp'])\n",
    "native_american_oy = sum(oy_df[oy_df['rac1p'] == '3']['pwgtp']) + sum(oy_df[oy_df['rac1p'] == '4']['pwgtp']) + sum(oy_df[oy_df['rac1p'] == '5']['pwgtp'])\n",
    "\n",
    "native_american_oy_rate = round((native_american_oy / native_american_ay * 100))\n",
    "native_american_oy_rate\n",
    "\n",
    "native_american_prop_oy = round((native_american_oy / oy_total*100))"
   ]
  },
  {
   "cell_type": "code",
   "execution_count": 19,
   "metadata": {},
   "outputs": [],
   "source": [
    "asian_ay = (sum(ay_df[ay_df['rac1p'] == '6']['pwgtp']))\n",
    "asian_oy = (sum(oy_df[oy_df['rac1p'] == '6']['pwgtp']))\n",
    "\n",
    "asian_oy_rate = round((asian_oy / asian_ay * 100))\n",
    "asian_oy_rate\n",
    "\n",
    "asian_prop_oy = round((asian_oy / oy_total*100))"
   ]
  },
  {
   "cell_type": "code",
   "execution_count": 20,
   "metadata": {},
   "outputs": [],
   "source": [
    "pac_islander_ay = (sum(ay_df[ay_df['rac1p'] == '7']['pwgtp']))\n",
    "pac_islander_oy = (sum(oy_df[oy_df['rac1p'] == '7']['pwgtp']))\n",
    "\n",
    "pac_islander_oy_rate = round((pac_islander_oy / pac_islander_ay * 100))\n",
    "pac_islander_oy_rate\n",
    "\n",
    "pac_islander_prop_oy = round((pac_islander_oy / oy_total*100))"
   ]
  },
  {
   "cell_type": "code",
   "execution_count": 21,
   "metadata": {},
   "outputs": [],
   "source": [
    "other_race_ay = (sum(ay_df[ay_df['rac1p'] == '8']['pwgtp']))\n",
    "other_race_oy = (sum(oy_df[oy_df['rac1p'] == '8']['pwgtp']))\n",
    "\n",
    "other_race_oy_rate = round((other_race_oy / other_race_ay * 100))\n",
    "other_race_oy_rate\n",
    "\n",
    "other_race_prop_oy = round((other_race_oy / oy_total*100))"
   ]
  },
  {
   "cell_type": "code",
   "execution_count": 22,
   "metadata": {
    "scrolled": true
   },
   "outputs": [],
   "source": [
    "multi_racial_ay = (sum(ay_df[ay_df['rac1p'] == '9']['pwgtp']))\n",
    "multi_racial_oy = (sum(oy_df[oy_df['rac1p'] == '9']['pwgtp']))\n",
    "\n",
    "multi_racial_oy_rate = round((multi_racial_oy / multi_racial_ay * 100))\n",
    "multi_racial_oy_rate\n",
    "\n",
    "multi_racial_prop_oy = round((multi_racial_oy / oy_total*100))"
   ]
  },
  {
   "cell_type": "code",
   "execution_count": 23,
   "metadata": {
    "scrolled": true
   },
   "outputs": [],
   "source": [
    "hispanic_ay = (sum(ay_df[ay_df['hisp'] != '01']['pwgtp']))\n",
    "hispanic_oy = (sum(oy_df[oy_df['hisp'] != '01']['pwgtp']))\n",
    "\n",
    "hispanic_oy_rate = round((hispanic_oy / hispanic_ay * 100))\n",
    "hispanic_oy_rate\n",
    "\n",
    "hispanic_prop_oy = round(((hispanic_oy / oy_total)*100))\n",
    "\n",
    "#hispanic did not exist as a category in the rac1p, and we don't know what criterion the other reports used\n",
    "#so we calculated our hispanic pop based on hisp = '01' i.e. Hispanic\n",
    "#this resulted in a sum of propotions higher than 100%\n",
    "#because we don't know how the groups were tabulated, we have no way of knowing if our data is even relevant \n",
    "#when comparing with previous studies\n",
    "#which leads me to my next slide --- https://en.wikipedia.org/wiki/Radical_transparency"
   ]
  },
  {
   "cell_type": "code",
   "execution_count": 24,
   "metadata": {
    "scrolled": true
   },
   "outputs": [],
   "source": [
    "race = ['White', 'African American', 'Native American or Alaska Native', 'Pacific Islander', 'Asian', 'Other Race', 'Two or More Races', 'Hispanic']\n",
    "ay_total_by_race = [white_ay, african_american_ay, native_american_ay, pac_islander_ay, asian_ay, other_race_ay, multi_racial_ay, hispanic_ay]\n",
    "oy_total_by_race = [white_oy, african_american_oy, native_american_oy, pac_islander_oy, asian_oy, other_race_oy, multi_racial_oy, hispanic_oy]\n",
    "racial_rate_of_oy = [white_oy_rate, african_american_oy_rate, native_american_oy_rate, pac_islander_oy_rate, asian_oy_rate, other_race_oy_rate, multi_racial_oy_rate, hispanic_oy_rate]\n",
    "racial_proportion_of_oy = [white_prop_oy,african_american_prop_oy, native_american_prop_oy, pac_islander_prop_oy, asian_prop_oy, other_race_prop_oy, multi_racial_prop_oy, hispanic_prop_oy ]\n",
    "\n",
    "racial_df = pd.DataFrame()"
   ]
  },
  {
   "cell_type": "code",
   "execution_count": 25,
   "metadata": {
    "scrolled": false
   },
   "outputs": [],
   "source": [
    "racial_df['Race'] = race\n",
    "racial_df['Rate of OY'] = racial_rate_of_oy\n",
    "racial_df['Total Youth Population'] = ay_total_by_race\n",
    "racial_df['Proportion of OY'] = racial_proportion_of_oy\n",
    "racial_df['OY Total'] = oy_total_by_race"
   ]
  },
  {
   "cell_type": "code",
   "execution_count": 26,
   "metadata": {},
   "outputs": [],
   "source": [
    "# racial_df = racial_df.sort_values(by=['Rate of OY'], ascending=False)"
   ]
  },
  {
   "cell_type": "code",
   "execution_count": 27,
   "metadata": {
    "scrolled": false
   },
   "outputs": [
    {
     "data": {
      "text/html": [
       "<div>\n",
       "<style scoped>\n",
       "    .dataframe tbody tr th:only-of-type {\n",
       "        vertical-align: middle;\n",
       "    }\n",
       "\n",
       "    .dataframe tbody tr th {\n",
       "        vertical-align: top;\n",
       "    }\n",
       "\n",
       "    .dataframe thead th {\n",
       "        text-align: right;\n",
       "    }\n",
       "</style>\n",
       "<table border=\"1\" class=\"dataframe\">\n",
       "  <thead>\n",
       "    <tr style=\"text-align: right;\">\n",
       "      <th></th>\n",
       "      <th>Race</th>\n",
       "      <th>Rate of OY</th>\n",
       "      <th>Total Youth Population</th>\n",
       "      <th>Proportion of OY</th>\n",
       "      <th>OY Total</th>\n",
       "    </tr>\n",
       "  </thead>\n",
       "  <tbody>\n",
       "    <tr>\n",
       "      <th>0</th>\n",
       "      <td>White</td>\n",
       "      <td>12</td>\n",
       "      <td>45663.0</td>\n",
       "      <td>50</td>\n",
       "      <td>5547.0</td>\n",
       "    </tr>\n",
       "    <tr>\n",
       "      <th>1</th>\n",
       "      <td>African American</td>\n",
       "      <td>15</td>\n",
       "      <td>8920.0</td>\n",
       "      <td>12</td>\n",
       "      <td>1343.0</td>\n",
       "    </tr>\n",
       "    <tr>\n",
       "      <th>2</th>\n",
       "      <td>Native American or Alaska Native</td>\n",
       "      <td>36</td>\n",
       "      <td>961.0</td>\n",
       "      <td>3</td>\n",
       "      <td>347.0</td>\n",
       "    </tr>\n",
       "    <tr>\n",
       "      <th>3</th>\n",
       "      <td>Pacific Islander</td>\n",
       "      <td>20</td>\n",
       "      <td>1877.0</td>\n",
       "      <td>3</td>\n",
       "      <td>373.0</td>\n",
       "    </tr>\n",
       "    <tr>\n",
       "      <th>4</th>\n",
       "      <td>Asian</td>\n",
       "      <td>9</td>\n",
       "      <td>13328.0</td>\n",
       "      <td>11</td>\n",
       "      <td>1196.0</td>\n",
       "    </tr>\n",
       "    <tr>\n",
       "      <th>5</th>\n",
       "      <td>Other Race</td>\n",
       "      <td>14</td>\n",
       "      <td>7298.0</td>\n",
       "      <td>9</td>\n",
       "      <td>1052.0</td>\n",
       "    </tr>\n",
       "    <tr>\n",
       "      <th>6</th>\n",
       "      <td>Two or More Races</td>\n",
       "      <td>16</td>\n",
       "      <td>7836.0</td>\n",
       "      <td>11</td>\n",
       "      <td>1257.0</td>\n",
       "    </tr>\n",
       "    <tr>\n",
       "      <th>7</th>\n",
       "      <td>Hispanic</td>\n",
       "      <td>14</td>\n",
       "      <td>15942.0</td>\n",
       "      <td>20</td>\n",
       "      <td>2239.0</td>\n",
       "    </tr>\n",
       "  </tbody>\n",
       "</table>\n",
       "</div>"
      ],
      "text/plain": [
       "                               Race  Rate of OY  Total Youth Population  \\\n",
       "0                             White          12                 45663.0   \n",
       "1                  African American          15                  8920.0   \n",
       "2  Native American or Alaska Native          36                   961.0   \n",
       "3                  Pacific Islander          20                  1877.0   \n",
       "4                             Asian           9                 13328.0   \n",
       "5                        Other Race          14                  7298.0   \n",
       "6                 Two or More Races          16                  7836.0   \n",
       "7                          Hispanic          14                 15942.0   \n",
       "\n",
       "   Proportion of OY  OY Total  \n",
       "0                50    5547.0  \n",
       "1                12    1343.0  \n",
       "2                 3     347.0  \n",
       "3                 3     373.0  \n",
       "4                11    1196.0  \n",
       "5                 9    1052.0  \n",
       "6                11    1257.0  \n",
       "7                20    2239.0  "
      ]
     },
     "execution_count": 27,
     "metadata": {},
     "output_type": "execute_result"
    }
   ],
   "source": [
    "racial_df"
   ]
  },
  {
   "cell_type": "code",
   "execution_count": 28,
   "metadata": {},
   "outputs": [],
   "source": [
    "# racial_df.to_csv('./racial_data.csv')"
   ]
  },
  {
   "cell_type": "code",
   "execution_count": 29,
   "metadata": {
    "scrolled": true
   },
   "outputs": [
    {
     "name": "stdout",
     "output_type": "stream",
     "text": [
      "01_erh_download_and_explore_data.ipynb  ay_df_22_24.csv\r\n",
      "02_samt_exploratory.ipynb               oy_df.csv\r\n",
      "Kyle_Exploration.ipynb                  oy_df_16_18.csv\r\n",
      "README.md                               oy_df_19_21.csv\r\n",
      "age_data.csv                            oy_df_22_24.csv\r\n",
      "ay_df.csv                               project_outcomes.ipynb\r\n",
      "ay_df_16_18.csv                         racial_data.csv\r\n",
      "ay_df_19_21.csv\r\n"
     ]
    }
   ],
   "source": [
    "ls"
   ]
  },
  {
   "cell_type": "code",
   "execution_count": 33,
   "metadata": {
    "scrolled": false
   },
   "outputs": [
    {
     "data": {
      "text/plain": [
       "119"
      ]
     },
     "execution_count": 33,
     "metadata": {},
     "output_type": "execute_result"
    }
   ],
   "source": [
    "racial_df['Proportion of OY'].sum()"
   ]
  },
  {
   "cell_type": "code",
   "execution_count": 31,
   "metadata": {},
   "outputs": [],
   "source": [
    "from src.example import *\n"
   ]
  },
  {
   "cell_type": "code",
   "execution_count": 32,
   "metadata": {},
   "outputs": [
    {
     "name": "stdout",
     "output_type": "stream",
     "text": [
      "hello\n"
     ]
    }
   ],
   "source": [
    "say_hello()"
   ]
  },
  {
   "cell_type": "code",
   "execution_count": null,
   "metadata": {},
   "outputs": [],
   "source": []
  }
 ],
 "metadata": {
  "kernelspec": {
   "display_name": "Python 3 (oy-env)",
   "language": "python",
   "name": "oy-env"
  },
  "language_info": {
   "codemirror_mode": {
    "name": "ipython",
    "version": 3
   },
   "file_extension": ".py",
   "mimetype": "text/x-python",
   "name": "python",
   "nbconvert_exporter": "python",
   "pygments_lexer": "ipython3",
   "version": "3.8.1"
  }
 },
 "nbformat": 4,
 "nbformat_minor": 4
}
