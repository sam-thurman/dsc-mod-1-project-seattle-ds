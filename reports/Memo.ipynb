{
 "cells": [
  {
   "cell_type": "markdown",
   "metadata": {},
   "source": [
    "Our goal was to analyze data of \"opportunity youth\" in South King County. Opportunity youth (OY) is defined as people 16-24 years old who are not in school and are not working. \n",
    "\n",
    "The 3 primary factors we used to analyze the OY were:\n",
    "\n",
    "1. Race\n",
    "    - \"White\" make up half the population of all youth in our target area, but only 12% of white people are OY\n",
    "    - \"Native Americans\" are only 3% of the population but 1/3rd of Native Americans are OY. Pacific Islanders also have a similar discrepancy.  \n",
    "    - Asians are the least likely racial group to be OY\n",
    "2. Age\n",
    "    - 16-18 years old: Only 6% of this age group is OY, likely because they are still in high school\n",
    "    - 19-21 years old: The rate of OY increases by 266% between age brackets, where 16% of 19-21 year olds are OY\n",
    "    - 22-24 years old: The rate of OY remains stable at 17%. \n",
    "3. Education Level Attained \n",
    "    - We focused on the 22-24 year old age bracket because by then, most people have completed secondary education. We learned that among this group, a quarter of them don't have a high school diploma, nearly half only have a diploma or GED, 20% attended some college and only 8% have a degree (associate's or above). \n",
    "\n",
    "In order to learn more about the OY, we also explored several other factors such as what industry they worked in, if they were married and if they were a U.S. citizen.  \n",
    "\n",
    "We were provided with census data for each of the 6 Public Use Microdata Area (PUMA) in the target area. We used SQL to search through the paramters and then created visualizations using Seaborn. \n",
    "\n",
    "Our biggest challenge was defining \"opportunity youth\" based on the data provided. \n",
    "\n",
    "1. There are several ways to define \"not working\" so we had to use our best judgement. \n",
    "\n",
    "2. Hispanic was not included in the primary race category. To account for, we had to add it from other categories, which may have caused an overlap. \n",
    "\n",
    "If we continue this project, we would explore the following: \n",
    "\n",
    "1. What is the Problem? \n",
    "\n",
    "Within each PUMA, are there specific neighborhoods or high schools where the OY struggle? Is there a correlation between parent's income/education level and their child's risk of being an OY\n",
    "\n",
    "2. Why is this Problem Important?\n",
    "\n",
    "Before the state of Washington invests resources, it's important to identify how important this problem is. How does being an OY impact your chances of being in poverty as an adult? What is the crime rate among the OY? And how does South King County compare to other urban areas in the country?  \n",
    "\n",
    "3. What is the Solution?\n",
    "\n",
    "Can we create a focus group of kids who were classified as OY who were able to transition out of it? Are there certain tools (ex. access to Internet) that prevent the OY from upward mobility and can we create programs to offer these tools? \n",
    "\n",
    "You may view our README file for a technical breakdown of our process or our PowerPoint presentation for a detailed look at our findings. "
   ]
  },
  {
   "cell_type": "code",
   "execution_count": null,
   "metadata": {},
   "outputs": [],
   "source": []
  }
 ],
 "metadata": {
  "kernelspec": {
   "display_name": "Python 3 (oy-env)",
   "language": "python",
   "name": "oy-env"
  },
  "language_info": {
   "codemirror_mode": {
    "name": "ipython",
    "version": 3
   },
   "file_extension": ".py",
   "mimetype": "text/x-python",
   "name": "python",
   "nbconvert_exporter": "python",
   "pygments_lexer": "ipython3",
   "version": "3.8.1"
  }
 },
 "nbformat": 4,
 "nbformat_minor": 4
}
